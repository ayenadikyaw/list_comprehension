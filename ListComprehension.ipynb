{
 "cells": [
  {
   "cell_type": "markdown",
   "source": "# Python List Comprehension",
   "metadata": {
    "tags": [],
    "is_collapsed": false,
    "cell_id": "00000-9ad65529-1a85-44ea-a4c3-ff885b1683a8",
    "deepnote_cell_type": "text-cell-h1"
   }
  },
  {
   "cell_type": "markdown",
   "source": "Python is popular for its simple, elegant and easy-to-write style of writing and it is as simple as writing a plain English.  Python list comprehension is a feature that we can use to create powerful functionality within a single line of code. Before we dive into list comprehension, let's understand list data structure first.",
   "metadata": {
    "tags": [],
    "is_collapsed": false,
    "cell_id": "00001-6cd959b1-4157-48aa-998e-cfe21c5e65a2",
    "deepnote_cell_type": "text-cell-p"
   }
  },
  {
   "cell_type": "markdown",
   "source": "## Python List",
   "metadata": {
    "tags": [],
    "is_collapsed": false,
    "cell_id": "00002-68aa8269-6faf-47e3-ac92-0a4d6fd94924",
    "deepnote_cell_type": "text-cell-h2"
   }
  },
  {
   "cell_type": "markdown",
   "source": "Python list is built-in data structure in Python. It is like an array in other programming languages such as Java, C, C++. However unlike arrays, the stored values in the list can be heterogeneous, means that the values do not need to be the same data types. The values are stored in sequential order and they are mutable and changeable. List supports indexing and slicing. An example of list is shown in below:",
   "metadata": {
    "tags": [],
    "is_collapsed": false,
    "cell_id": "00003-5e28ba4e-e57e-4d24-b470-ad1ccd82326e",
    "deepnote_cell_type": "text-cell-p"
   }
  },
  {
   "cell_type": "code",
   "source": "myList=[1,2,3.4,\"Apple\",{1:\"A\"}]\nprint(type(myList))",
   "metadata": {
    "tags": [],
    "cell_id": "00005-9e627486-ffd7-4a6a-8f87-e11bc441e283",
    "deepnote_to_be_reexecuted": false,
    "source_hash": "6db72270",
    "execution_start": 1633241563301,
    "execution_millis": 99,
    "deepnote_cell_type": "code"
   },
   "outputs": [
    {
     "name": "stdout",
     "text": "<class 'list'>\n",
     "output_type": "stream"
    }
   ],
   "execution_count": null
  },
  {
   "cell_type": "markdown",
   "source": "In the above example, we can see that list can have different data types.",
   "metadata": {
    "tags": [],
    "is_collapsed": false,
    "cell_id": "00005-064048d7-dd48-4df3-9f83-274d252c8ae1",
    "deepnote_cell_type": "text-cell-p"
   }
  },
  {
   "cell_type": "markdown",
   "source": "## Indexing and Slicing",
   "metadata": {
    "tags": [],
    "is_collapsed": false,
    "cell_id": "00007-d3b5bf1d-42ba-4e77-b31d-25af22786808",
    "deepnote_cell_type": "text-cell-h2"
   }
  },
  {
   "cell_type": "code",
   "source": "#indexing\nprint(myList[4])\n#slicing\nprint(myList[1:4])",
   "metadata": {
    "tags": [],
    "cell_id": "00008-82960367-f86f-424f-bf60-913458bda2a1",
    "deepnote_to_be_reexecuted": false,
    "source_hash": "7c21b988",
    "execution_start": 1633241563311,
    "execution_millis": 89,
    "deepnote_cell_type": "code"
   },
   "outputs": [
    {
     "name": "stdout",
     "text": "{1: 'A'}\n[2, 3.4, 'Apple']\n",
     "output_type": "stream"
    }
   ],
   "execution_count": null
  },
  {
   "cell_type": "markdown",
   "source": "Python indexing can be used to access desired list elements(s). Note that list index starts from 0. And for slicing, ' : ' is slicing operator where lower bond is inclusive and upper bond is exclusive. So that index 4 which is a dictionary element is exclusive when we slice myList.",
   "metadata": {
    "tags": [],
    "is_collapsed": false,
    "cell_id": "00009-5d8ed271-8a3e-4304-a4ca-7a011553c093",
    "deepnote_cell_type": "text-cell-p"
   }
  },
  {
   "cell_type": "markdown",
   "source": "## List Comprehension",
   "metadata": {
    "tags": [],
    "is_collapsed": false,
    "cell_id": "00006-39296d97-51e2-488d-b19b-1c0ea53553bc",
    "deepnote_cell_type": "text-cell-h2"
   }
  },
  {
   "cell_type": "markdown",
   "source": "After a fresh recap of list, now let's see List Comprehension which is a distinct feature that can create new lists from iterable objects like tuple, strings, arrays, lists, etc. within a single line of code.",
   "metadata": {
    "tags": [],
    "is_collapsed": false,
    "cell_id": "00010-8358c0e9-699d-4929-b0d6-8bf09b96529d",
    "deepnote_cell_type": "text-cell-p"
   }
  },
  {
   "cell_type": "markdown",
   "source": "### Syntax",
   "metadata": {
    "tags": [],
    "is_collapsed": false,
    "cell_id": "00011-19daffde-b8ef-4991-8f50-44ab3953bacd",
    "deepnote_cell_type": "text-cell-h3"
   }
  },
  {
   "cell_type": "markdown",
   "source": "newList&nbsp;=&nbsp;[&nbsp;expression(element)&nbsp;for&nbsp;element&nbsp;in&nbsp;oldList&nbsp;if&nbsp;condition&nbsp;]",
   "metadata": {
    "tags": [],
    "is_collapsed": false,
    "cell_id": "00012-1b89e48b-c9e7-49eb-9edd-73b006b2526e",
    "deepnote_cell_type": "text-cell-p"
   }
  },
  {
   "cell_type": "markdown",
   "source": "### Example",
   "metadata": {
    "tags": [],
    "is_collapsed": false,
    "cell_id": "00013-58fcc858-0f69-4bf6-b520-f1dd12b943b2",
    "deepnote_cell_type": "text-cell-h3"
   }
  },
  {
   "cell_type": "code",
   "source": "#creating an integer list\nintList=[1,2,3,4,5,6,7,8,9,10,11,12]\n#creating a new list which values are double of intList using list comprehension\nnewList=[2*i for i in intList]\nprint(newList)\n",
   "metadata": {
    "tags": [],
    "cell_id": "00014-8e585f7e-b175-4d1d-a7d2-7e8c7f0a1482",
    "deepnote_to_be_reexecuted": false,
    "source_hash": "260b22f3",
    "execution_start": 1633241563323,
    "execution_millis": 77,
    "deepnote_cell_type": "code"
   },
   "outputs": [
    {
     "name": "stdout",
     "text": "[2, 4, 6, 8, 10, 12, 14, 16, 18, 20, 22, 24]\n",
     "output_type": "stream"
    }
   ],
   "execution_count": null
  },
  {
   "cell_type": "markdown",
   "source": "In the above example, uses a single line of list comprehension statement to create a new list which values are double of values of intList. We can also use \"for loop\" instead of list comprehension. Let's see.",
   "metadata": {
    "tags": [],
    "is_collapsed": false,
    "cell_id": "00015-4aa8e905-5dfe-4f88-bd40-c5e6e95daed7",
    "deepnote_cell_type": "text-cell-p"
   }
  },
  {
   "cell_type": "code",
   "source": "#creating the same integer list1 \nintList1=[1,2,3,4,5,6,7,8,9,10,11,12]\n#create an empty list first\nnewList1=[]\n#createing a new list which values are double of intList1 using for loop\nfor i in intList:\n    newList1.append(2*i)\n\nprint(newList1)\n",
   "metadata": {
    "tags": [],
    "cell_id": "00016-268d40eb-c96a-4c57-82f9-ac259c04b777",
    "deepnote_to_be_reexecuted": false,
    "source_hash": "6f1b5512",
    "execution_start": 1633241563335,
    "execution_millis": 31,
    "deepnote_cell_type": "code"
   },
   "outputs": [
    {
     "name": "stdout",
     "text": "[2, 4, 6, 8, 10, 12, 14, 16, 18, 20, 22, 24]\n",
     "output_type": "stream"
    }
   ],
   "execution_count": null
  },
  {
   "cell_type": "markdown",
   "source": "Another alternative way is to use map() function. Python map() function is based on functional programming. We need to pass a function and an iterable, and it will create an object.",
   "metadata": {
    "tags": [],
    "is_collapsed": false,
    "cell_id": "00019-dfdec667-7336-4148-a9eb-872741fba39f",
    "deepnote_cell_type": "text-cell-p"
   }
  },
  {
   "cell_type": "code",
   "source": "#creating the same integer list2\nintList2=[1,2,3,4,5,6,7,8,9,10,11,12]\n#define a funtion to make doubles of the values\ndef doubleVal(val):\n    return 2*val\n#creating a new list using list() function and map()function\nnewList2=list(map(doubleVal,intList2))\nprint(newList2)\n",
   "metadata": {
    "tags": [],
    "cell_id": "00020-034b9ac4-9c4f-4213-973b-c61029b33292",
    "deepnote_to_be_reexecuted": false,
    "source_hash": "8193b6fb",
    "execution_start": 1633241563366,
    "execution_millis": 27,
    "deepnote_cell_type": "code"
   },
   "outputs": [],
   "execution_count": null
  },
  {
   "cell_type": "markdown",
   "source": "We physically can see that using List Comprehension is more efficient than using \"for loop\" and using \"map()\" function in terms of coding space. Now let's discover about running time.",
   "metadata": {
    "tags": [],
    "is_collapsed": false,
    "cell_id": "00017-396e86ec-6f3a-4b7d-8538-c01749820d4f",
    "deepnote_cell_type": "text-cell-p"
   }
  },
  {
   "cell_type": "code",
   "source": "import timeit\n\n#list comprehension\ndef list_comprehension(l):\n    return [2*i for i in l]\n\n#for loop\ndef for_loop(l):\n    li=[]\n    for j in l:\n        li.append(2*j)\n    return li\n\n#map function\ndef map_fun(l):\n    def double_val(val):\n        return 2*val\n    lii=list(map(double_val,l))\n    return lii\n\nintList=[1,2,3,4,5,6,7,8,9,10,11,12]\n\n# Calculate time takens by list_comprehension()\nbegin = timeit.default_timer()\nlist_comprehension(intList)\nend = timeit.default_timer()\n# Display time taken by list_comprehension()\nprint('Time taken list_comprehension:',round(end-begin,6))\n\n# Calculate time takens by for_loop()\nbegin = timeit.default_timer()\nfor_loop(intList)\nend = timeit.default_timer()\n# Display time taken by map_fun()\nprint('Time taken for_loop:',round(end-begin,6))\n\n# Calculate time takens by map_fun()\nbegin = timeit.default_timer()\nmap_fun(intList)\nend = timeit.default_timer()\n# Display time taken by map_fun()\nprint('Time taken map_function:',round(end-begin,6))",
   "metadata": {
    "tags": [],
    "cell_id": "00018-9d0d0bbb-60f0-4f03-8cb2-8198c860b960",
    "deepnote_to_be_reexecuted": false,
    "source_hash": "a01d93d0",
    "execution_start": 1633241563367,
    "execution_millis": 33,
    "allow_embed": "code_output",
    "deepnote_cell_type": "code"
   },
   "outputs": [
    {
     "name": "stdout",
     "text": "Time taken list_comprehension: 7.8e-05\nTime taken for_loop: 9.8e-05\nTime taken map_function: 8.1e-05\n",
     "output_type": "stream"
    }
   ],
   "execution_count": null
  },
  {
   "cell_type": "markdown",
   "source": "After checking the execution time for each functionality in the above example, literally there is not much difference between the execution times. Using list comprehension generally seems a little bit fast . But we can see that list comprehension is both computationally efficient in terms of space and time . However, this should be analyzed through multiple test cases. ",
   "metadata": {
    "tags": [],
    "is_collapsed": false,
    "cell_id": "00021-7b3d80b4-8dc5-4b0b-9f14-a4fa66bc9d05",
    "deepnote_cell_type": "text-cell-p"
   }
  },
  {
   "cell_type": "markdown",
   "source": "## List Comprehension With Conditionals",
   "metadata": {
    "tags": [],
    "is_collapsed": false,
    "cell_id": "00022-9f8d47b3-449b-4f6f-861b-24cf4ed71242",
    "deepnote_cell_type": "text-cell-h2"
   }
  },
  {
   "cell_type": "markdown",
   "source": "We can also use conditional statements to list comprehension. Below are some examples.",
   "metadata": {
    "tags": [],
    "is_collapsed": false,
    "cell_id": "00023-5292ede8-325d-41e8-9aca-01cfcc248261",
    "deepnote_cell_type": "text-cell-p"
   }
  },
  {
   "cell_type": "code",
   "source": "studentMarks=[70,32,45,80,50,56,100,25,34,89,98,70]\npassMarks=[n for n in studentMarks if n>=50]\nprint(passMarks)\nfailMarks=[n for n in studentMarks if n<50]\nprint(failMarks)",
   "metadata": {
    "tags": [],
    "cell_id": "00024-3d2cb0bc-efac-4db3-8ff2-f32cc97369ee",
    "deepnote_to_be_reexecuted": false,
    "source_hash": "f2fc0279",
    "execution_start": 1633242413461,
    "execution_millis": 16,
    "deepnote_cell_type": "code"
   },
   "outputs": [
    {
     "name": "stdout",
     "text": "[70, 80, 50, 56, 100, 89, 98, 70]\n[32, 45, 25, 34]\n",
     "output_type": "stream"
    }
   ],
   "execution_count": null
  },
  {
   "cell_type": "markdown",
   "source": "We can use together with range() function as well. ",
   "metadata": {
    "tags": [],
    "is_collapsed": false,
    "cell_id": "00025-8be16cd1-43b6-48b3-8c3a-606899e31a2e",
    "deepnote_cell_type": "text-cell-p"
   }
  },
  {
   "cell_type": "code",
   "source": "# Take out the even values from 1 to 100 and make it doubles \ndoubleEven= [i*2 for i in range(1,51) if i%2==0]\nprint(doubleEven)",
   "metadata": {
    "tags": [],
    "cell_id": "00026-573d5c1b-e8c6-4aa6-a84e-db5ade7de43e",
    "deepnote_to_be_reexecuted": false,
    "source_hash": "af4fe485",
    "execution_start": 1633247042271,
    "execution_millis": 6,
    "deepnote_cell_type": "code"
   },
   "outputs": [
    {
     "name": "stdout",
     "text": "[4, 8, 12, 16, 20, 24, 28, 32, 36, 40, 44, 48, 52, 56, 60, 64, 68, 72, 76, 80, 84, 88, 92, 96, 100]\n",
     "output_type": "stream"
    }
   ],
   "execution_count": null
  },
  {
   "cell_type": "markdown",
   "source": "We can also use with if-else conditional statement.",
   "metadata": {
    "tags": [],
    "is_collapsed": false,
    "cell_id": "00038-6c40e5e0-b79b-4e4b-9f1e-6020a0b3c159",
    "deepnote_cell_type": "text-cell-p"
   }
  },
  {
   "cell_type": "code",
   "source": "# Make double to even values and triple to odd values from 1 to 50.\ndoubleEven_tripleOdd=[i*2 if i%2==0 else i*3 for i in range (1,51)]\nprint(doubleEven_tripleOdd)",
   "metadata": {
    "tags": [],
    "cell_id": "00028-943a8f73-8aff-4178-9535-7aebf28092ce",
    "deepnote_to_be_reexecuted": false,
    "source_hash": "261675f7",
    "execution_start": 1633247082840,
    "execution_millis": 9,
    "deepnote_cell_type": "code"
   },
   "outputs": [
    {
     "name": "stdout",
     "text": "[3, 4, 9, 8, 15, 12, 21, 16, 27, 20, 33, 24, 39, 28, 45, 32, 51, 36, 57, 40, 63, 44, 69, 48, 75, 52, 81, 56, 87, 60, 93, 64, 99, 68, 105, 72, 111, 76, 117, 80, 123, 84, 129, 88, 135, 92, 141, 96, 147, 100]\n",
     "output_type": "stream"
    }
   ],
   "execution_count": null
  },
  {
   "cell_type": "markdown",
   "source": "## Nested List Comprehension",
   "metadata": {
    "tags": [],
    "is_collapsed": false,
    "cell_id": "00027-72878327-92f9-46ab-8fe8-51e22333bc2a",
    "deepnote_cell_type": "text-cell-h2"
   }
  },
  {
   "cell_type": "markdown",
   "source": "We can also implement nested list comprehension like nested loop or nested if. Below is an example.",
   "metadata": {
    "tags": [],
    "is_collapsed": false,
    "cell_id": "00028-2cac369e-7b97-4688-83fb-dc734caabc4c",
    "deepnote_cell_type": "text-cell-p"
   }
  },
  {
   "cell_type": "code",
   "source": "#creating a list which has three identical even integer lists from 1 to 10\nli=[[i for i in range(1,11) if i%2==0] for j in range(3)]\nprint(li)",
   "metadata": {
    "tags": [],
    "cell_id": "00029-d5c05626-5c3e-4f6c-9e8b-1a2c83767f04",
    "deepnote_to_be_reexecuted": false,
    "source_hash": "5deb9343",
    "execution_start": 1633244188999,
    "execution_millis": 9,
    "deepnote_cell_type": "code"
   },
   "outputs": [
    {
     "name": "stdout",
     "text": "[[2, 4, 6, 8, 10], [2, 4, 6, 8, 10], [2, 4, 6, 8, 10]]\n",
     "output_type": "stream"
    }
   ],
   "execution_count": null
  },
  {
   "cell_type": "markdown",
   "source": "The above example is creating a 2-Dimensional Matrix which elements are three identical lists which has even values from 1 to 10.",
   "metadata": {
    "tags": [],
    "is_collapsed": false,
    "cell_id": "00030-b8d63774-bf7f-4bbc-a342-c811e6570544",
    "deepnote_cell_type": "text-cell-p"
   }
  },
  {
   "cell_type": "markdown",
   "source": "## List Comprehension with Lambda",
   "metadata": {
    "tags": [],
    "is_collapsed": false,
    "cell_id": "00031-2f7d7743-06e2-475d-af92-07096077de08",
    "deepnote_cell_type": "text-cell-h2"
   }
  },
  {
   "cell_type": "markdown",
   "source": "Lambda expressions are shorthand representations of python function. We can use list comprehension and lambda expression together to get an efficient combination. ",
   "metadata": {
    "tags": [],
    "is_collapsed": false,
    "cell_id": "00032-91e29e91-0a13-4c13-a147-3ae854f75ec0",
    "deepnote_cell_type": "text-cell-p"
   }
  },
  {
   "cell_type": "markdown",
   "source": "One the above example of creating a new list used map() function. Map function needs a function to pass as an argument so that we need to create a function. Now, let's change the above function using lambda expression instead of defining a function.",
   "metadata": {
    "tags": [],
    "is_collapsed": false,
    "cell_id": "00036-6f8b285b-b0ff-47a6-b14a-ec5b25b7779a",
    "deepnote_cell_type": "text-cell-p"
   }
  },
  {
   "cell_type": "code",
   "source": "#creating the same integer list2\nintList3=[1,2,3,4,5,6,7,8,9,10,11,12]\n\n#creating a new list using list() function and map()function and lambda expression\nnewList3=list(map(lambda val: 2*val,intList2))\nprint(newList3)",
   "metadata": {
    "tags": [],
    "cell_id": "00033-5945fc25-2c8e-4e0f-8fe8-f86d6f2ba8d5",
    "deepnote_to_be_reexecuted": false,
    "source_hash": "ff94ed2e",
    "execution_start": 1633245953399,
    "execution_millis": 3,
    "deepnote_cell_type": "code"
   },
   "outputs": [
    {
     "name": "stdout",
     "text": "[2, 4, 6, 8, 10, 12, 14, 16, 18, 20, 22, 24]\n",
     "output_type": "stream"
    }
   ],
   "execution_count": null
  },
  {
   "cell_type": "markdown",
   "source": "Then, now let's combine the list comprehension and lambda expression together. The above example again can be changed to a shorter version. Instead of creating an integer list of 1 to 12, we can use list comprehension with range function.",
   "metadata": {
    "tags": [],
    "is_collapsed": false,
    "cell_id": "00034-d7f09473-e70b-478a-af48-3cee30cbd962",
    "deepnote_cell_type": "text-cell-p"
   }
  },
  {
   "cell_type": "code",
   "source": "newList4= list(map(lambda val:2*val,[i for i in range(1,13)]))\nprint(newList4)",
   "metadata": {
    "tags": [],
    "cell_id": "00035-8ea8f260-83be-46ae-82b5-3759faf960a8",
    "deepnote_to_be_reexecuted": false,
    "source_hash": "ec535b1f",
    "execution_start": 1633246332058,
    "execution_millis": 136,
    "deepnote_cell_type": "code"
   },
   "outputs": [
    {
     "name": "stdout",
     "text": "[2, 4, 6, 8, 10, 12, 14, 16, 18, 20, 22, 24]\n",
     "output_type": "stream"
    }
   ],
   "execution_count": null
  },
  {
   "cell_type": "markdown",
   "source": "Now, we can see that combining lambda expression and list comprehension can make our code shorter. ",
   "metadata": {
    "tags": [],
    "is_collapsed": false,
    "cell_id": "00037-d2ada438-a9eb-455b-9375-618ab85f9e8e",
    "deepnote_cell_type": "text-cell-p"
   }
  },
  {
   "cell_type": "markdown",
   "source": "## Conclusion",
   "metadata": {
    "tags": [],
    "is_collapsed": false,
    "cell_id": "00040-643379b7-fb60-4abc-8556-52bbefb8e91e",
    "deepnote_cell_type": "text-cell-h2"
   }
  },
  {
   "cell_type": "markdown",
   "source": "I hope this article can give you to get a little bit clear about list comprehension and know how to use it. List comprehension is computationally efficient and we just need few lines of code to implement it. However, it does not mean that we always start with list comprehension in creating lists. Sometimes, instead of using list comprehension, we might need to use for loop instead. In conclusion, we can use list comprehension when it is appropriate.",
   "metadata": {
    "tags": [],
    "is_collapsed": false,
    "cell_id": "00041-eb3267f2-18c7-4f56-84a8-c452a30d1287",
    "deepnote_cell_type": "text-cell-p"
   }
  },
  {
   "cell_type": "markdown",
   "source": "<a style='text-decoration:none;line-height:16px;display:flex;color:#5B5B62;padding:10px;justify-content:end;' href='https://deepnote.com?utm_source=created-in-deepnote-cell&projectId=6f6e2c88-220d-4c67-914f-94e653a267a2' target=\"_blank\">\n<img alt='Created in deepnote.com' style='display:inline;max-height:16px;margin:0px;margin-right:7.5px;' src='data:image/svg+xml;base64,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' > </img>\nCreated in <span style='font-weight:600;margin-left:4px;'>Deepnote</span></a>",
   "metadata": {
    "tags": [],
    "created_in_deepnote_cell": true,
    "deepnote_cell_type": "markdown"
   }
  }
 ],
 "nbformat": 4,
 "nbformat_minor": 2,
 "metadata": {
  "orig_nbformat": 2,
  "deepnote": {
   "is_reactive": false
  },
  "deepnote_notebook_id": "6adc6755-8309-4a85-bc89-778ca777929f",
  "deepnote_execution_queue": []
 }
}